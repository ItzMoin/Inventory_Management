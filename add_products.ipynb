{
  "nbformat": 4,
  "nbformat_minor": 0,
  "metadata": {
    "colab": {
      "name": "add_products.ipynb",
      "provenance": [],
      "collapsed_sections": [],
      "toc_visible": true
    },
    "kernelspec": {
      "name": "python3",
      "display_name": "Python 3"
    },
    "language_info": {
      "name": "python"
    }
  },
  "cells": [
    {
      "cell_type": "code",
      "metadata": {
        "id": "M1Ep1IXbJ_M5"
      },
      "source": [
        "import json\n",
        "\n",
        "fd = open(\"record.json\")\n",
        "record= json.load(fd)\n",
        "#record = dict(record)\n",
        "fd.close()\n",
        "print(record)\n",
        "\n",
        "prod_id = str(input(\"Enter product id:\"))\n",
        "name = str(input(\"Enter name:\"))\n",
        "pr = int(input(\"Enter price:\"))\n",
        "qn = int(input(\"Enter quantity:\"))\n",
        "ptype = str(input(\"Enter product category:\"))\n",
        "wa = str(input(\"whether warranty applicable or not:\"))\n",
        "\n",
        "\n",
        "record[prod_id] = {'name': name, 'pr': pr, 'qn': qn, 'type': ptype, 'wa': wa}\n",
        "\n",
        "fd = open(\"record.json\",'w')\n",
        "json.dump(record, fd)\n",
        "\n",
        "fd.close()\n"
      ],
      "execution_count": null,
      "outputs": []
    }
  ]
}